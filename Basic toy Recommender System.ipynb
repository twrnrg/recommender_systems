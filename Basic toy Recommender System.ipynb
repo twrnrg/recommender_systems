{
 "cells": [
  {
   "cell_type": "code",
   "execution_count": 2,
   "metadata": {
    "ExecuteTime": {
     "end_time": "2019-07-30T05:06:42.124165Z",
     "start_time": "2019-07-30T05:06:42.109423Z"
    }
   },
   "outputs": [],
   "source": [
    "data = {\n",
    " 'Alan Perlis': { \n",
    " 'Artificial intelligence': 1.46, \n",
    " 'Systems programming': 5.0, \n",
    " 'Software engineering': 3.34, \n",
    " 'Databases': 2.32\n",
    " },'Marvin Minsky': { \n",
    " 'Artificial intelligence': 5.0, \n",
    " 'Systems programming': 2.54,\n",
    " 'Computation': 4.32, \n",
    " 'Algorithms': 2.76\n",
    " },'John McCarthy': { \n",
    " 'Artificial intelligence': 5.0, \n",
    " 'Programming language theory': 4.72, \n",
    " 'Systems programming': 3.25, \n",
    " 'Concurrency': 3.61, \n",
    " 'Formal methods': 3.58,\n",
    " 'Computation': 3.23, \n",
    " 'Algorithms': 3.03 \n",
    " },'Edsger Dijkstra': { \n",
    " 'Programming language theory': 4.34, \n",
    " 'Systems programming': 4.52,\n",
    " 'Software engineering': 4.04, \n",
    " 'Concurrency': 3.97,\n",
    " 'Formal methods': 5.0, \n",
    " 'Algorithms': 4.92 \n",
    " },'Donald Knuth': { \n",
    " 'Programming language theory': 4.33, \n",
    " 'Systems programming': 3.57,\n",
    " 'Computation': 4.39, \n",
    " 'Algorithms': 5.0 \n",
    " },'John Backus': { \n",
    " 'Programming language theory': 4.58, \n",
    " 'Systems programming': 4.43,\n",
    " 'Software engineering': 4.38, \n",
    " 'Formal methods': 2.42, \n",
    " 'Databases': 2.80 \n",
    " },'Robert Floyd': { \n",
    " 'Programming language theory': 4.24, \n",
    " 'Systems programming': 2.17,\n",
    " 'Concurrency': 2.92, \n",
    " 'Formal methods': 5.0, \n",
    " 'Computation': 3.18, \n",
    " 'Algorithms': 5.0 \n",
    " },'Tony Hoare': { \n",
    " 'Programming language theory': 4.64, \n",
    " 'Systems programming': 4.38,\n",
    " 'Software engineering': 3.62, \n",
    " 'Concurrency': 4.88,\n",
    " 'Formal methods': 4.72, \n",
    " 'Algorithms': 4.38\n",
    " },'Edgar Codd': { \n",
    " 'Systems programming': 4.60, \n",
    " 'Software engineering': 3.54,\n",
    " 'Concurrency': 4.28, \n",
    " 'Formal methods': 1.53, \n",
    " 'Databases': 5.0\n",
    " },'Dennis Ritchie': { \n",
    " 'Programming language theory': 3.45, \n",
    " 'Systems programming': 5.0,\n",
    " 'Software engineering': 4.83,\n",
    " },'Niklaus Wirth': { \n",
    " 'Programming language theory': 4.23, \n",
    " 'Systems programming': 4.22,\n",
    " 'Software engineering': 4.74, \n",
    " 'Formal methods': 3.83, \n",
    " 'Algorithms': 3.95\n",
    " },'Robin Milner': { \n",
    " 'Programming language theory': 5.0, \n",
    " 'Systems programming': 1.66,\n",
    " 'Concurrency': 4.62, \n",
    " 'Formal methods': 3.94,\n",
    " },'Leslie Lamport': { \n",
    " 'Programming language theory': 1.5, \n",
    " 'Systems programming': 2.76,\n",
    " 'Software engineering': 3.76, \n",
    " 'Concurrency': 5.0,\n",
    " 'Formal methods': 4.93, \n",
    " 'Algorithms': 4.63\n",
    " },'Michael Stonebraker': { \n",
    " 'Systems programming': 4.67, \n",
    " 'Software engineering': 3.86,\n",
    " 'Concurrency': 4.14, \n",
    " 'Databases': 5.0,\n",
    " },\n",
    "}"
   ]
  },
  {
   "cell_type": "markdown",
   "metadata": {},
   "source": [
    "<b>In this data : Michael Stonebraker rates the book Systems Programming 4.67, while Leslie Ramport rates Concurrency as 5.0\n",
    "A simple problem to solve could be using this dataset anf a recommender system, is  how likely Marvim Minsky is to like book Programming languauge theory.<br><br>\n",
    "In order to solve this kind of problems, we need a way to <b>measure how similar people are based on their rankings.</b>\n",
    "A naive but popular approach is to compare every pair and find a <b>similarity score.</b>\n",
    "The most common approaches to the similarity problem are score by \n",
    "<b><font color = 'red'>Euclidean Distance</font></b> and using the <b><font color = 'red'>Pearson Correlation Coefficient</font></b>"
   ]
  },
  {
   "cell_type": "code",
   "execution_count": 41,
   "metadata": {
    "ExecuteTime": {
     "end_time": "2019-07-30T05:32:26.559454Z",
     "start_time": "2019-07-30T05:32:26.546391Z"
    },
    "scrolled": true
   },
   "outputs": [],
   "source": [
    "import pandas as pd\n",
    "df = pd.DataFrame(data)\n",
    "df.reset_index(inplace=True)\n",
    "df.rename(columns = {'index': 'Book'}, inplace = True)"
   ]
  },
  {
   "cell_type": "code",
   "execution_count": 69,
   "metadata": {
    "ExecuteTime": {
     "end_time": "2019-07-30T05:49:19.749215Z",
     "start_time": "2019-07-30T05:49:19.707499Z"
    }
   },
   "outputs": [
    {
     "data": {
      "text/html": [
       "<div>\n",
       "<style scoped>\n",
       "    .dataframe tbody tr th:only-of-type {\n",
       "        vertical-align: middle;\n",
       "    }\n",
       "\n",
       "    .dataframe tbody tr th {\n",
       "        vertical-align: top;\n",
       "    }\n",
       "\n",
       "    .dataframe thead th {\n",
       "        text-align: right;\n",
       "    }\n",
       "</style>\n",
       "<table border=\"1\" class=\"dataframe\">\n",
       "  <thead>\n",
       "    <tr style=\"text-align: right;\">\n",
       "      <th></th>\n",
       "      <th>Book</th>\n",
       "      <th>Alan Perlis</th>\n",
       "      <th>Marvin Minsky</th>\n",
       "      <th>John McCarthy</th>\n",
       "      <th>Edsger Dijkstra</th>\n",
       "      <th>Donald Knuth</th>\n",
       "      <th>John Backus</th>\n",
       "      <th>Robert Floyd</th>\n",
       "      <th>Tony Hoare</th>\n",
       "      <th>Edgar Codd</th>\n",
       "      <th>Dennis Ritchie</th>\n",
       "      <th>Niklaus Wirth</th>\n",
       "      <th>Robin Milner</th>\n",
       "      <th>Leslie Lamport</th>\n",
       "      <th>Michael Stonebraker</th>\n",
       "    </tr>\n",
       "  </thead>\n",
       "  <tbody>\n",
       "    <tr>\n",
       "      <th>0</th>\n",
       "      <td>Algorithms</td>\n",
       "      <td>NaN</td>\n",
       "      <td>2.76</td>\n",
       "      <td>3.03</td>\n",
       "      <td>4.92</td>\n",
       "      <td>5.00</td>\n",
       "      <td>NaN</td>\n",
       "      <td>5.00</td>\n",
       "      <td>4.38</td>\n",
       "      <td>NaN</td>\n",
       "      <td>NaN</td>\n",
       "      <td>3.95</td>\n",
       "      <td>NaN</td>\n",
       "      <td>4.63</td>\n",
       "      <td>NaN</td>\n",
       "    </tr>\n",
       "    <tr>\n",
       "      <th>1</th>\n",
       "      <td>Artificial intelligence</td>\n",
       "      <td>1.46</td>\n",
       "      <td>5.00</td>\n",
       "      <td>5.00</td>\n",
       "      <td>NaN</td>\n",
       "      <td>NaN</td>\n",
       "      <td>NaN</td>\n",
       "      <td>NaN</td>\n",
       "      <td>NaN</td>\n",
       "      <td>NaN</td>\n",
       "      <td>NaN</td>\n",
       "      <td>NaN</td>\n",
       "      <td>NaN</td>\n",
       "      <td>NaN</td>\n",
       "      <td>NaN</td>\n",
       "    </tr>\n",
       "    <tr>\n",
       "      <th>2</th>\n",
       "      <td>Computation</td>\n",
       "      <td>NaN</td>\n",
       "      <td>4.32</td>\n",
       "      <td>3.23</td>\n",
       "      <td>NaN</td>\n",
       "      <td>4.39</td>\n",
       "      <td>NaN</td>\n",
       "      <td>3.18</td>\n",
       "      <td>NaN</td>\n",
       "      <td>NaN</td>\n",
       "      <td>NaN</td>\n",
       "      <td>NaN</td>\n",
       "      <td>NaN</td>\n",
       "      <td>NaN</td>\n",
       "      <td>NaN</td>\n",
       "    </tr>\n",
       "    <tr>\n",
       "      <th>3</th>\n",
       "      <td>Concurrency</td>\n",
       "      <td>NaN</td>\n",
       "      <td>NaN</td>\n",
       "      <td>3.61</td>\n",
       "      <td>3.97</td>\n",
       "      <td>NaN</td>\n",
       "      <td>NaN</td>\n",
       "      <td>2.92</td>\n",
       "      <td>4.88</td>\n",
       "      <td>4.28</td>\n",
       "      <td>NaN</td>\n",
       "      <td>NaN</td>\n",
       "      <td>4.62</td>\n",
       "      <td>5.00</td>\n",
       "      <td>4.14</td>\n",
       "    </tr>\n",
       "    <tr>\n",
       "      <th>4</th>\n",
       "      <td>Databases</td>\n",
       "      <td>2.32</td>\n",
       "      <td>NaN</td>\n",
       "      <td>NaN</td>\n",
       "      <td>NaN</td>\n",
       "      <td>NaN</td>\n",
       "      <td>2.80</td>\n",
       "      <td>NaN</td>\n",
       "      <td>NaN</td>\n",
       "      <td>5.00</td>\n",
       "      <td>NaN</td>\n",
       "      <td>NaN</td>\n",
       "      <td>NaN</td>\n",
       "      <td>NaN</td>\n",
       "      <td>5.00</td>\n",
       "    </tr>\n",
       "    <tr>\n",
       "      <th>5</th>\n",
       "      <td>Formal methods</td>\n",
       "      <td>NaN</td>\n",
       "      <td>NaN</td>\n",
       "      <td>3.58</td>\n",
       "      <td>5.00</td>\n",
       "      <td>NaN</td>\n",
       "      <td>2.42</td>\n",
       "      <td>5.00</td>\n",
       "      <td>4.72</td>\n",
       "      <td>1.53</td>\n",
       "      <td>NaN</td>\n",
       "      <td>3.83</td>\n",
       "      <td>3.94</td>\n",
       "      <td>4.93</td>\n",
       "      <td>NaN</td>\n",
       "    </tr>\n",
       "    <tr>\n",
       "      <th>6</th>\n",
       "      <td>Programming language theory</td>\n",
       "      <td>NaN</td>\n",
       "      <td>NaN</td>\n",
       "      <td>4.72</td>\n",
       "      <td>4.34</td>\n",
       "      <td>4.33</td>\n",
       "      <td>4.58</td>\n",
       "      <td>4.24</td>\n",
       "      <td>4.64</td>\n",
       "      <td>NaN</td>\n",
       "      <td>3.45</td>\n",
       "      <td>4.23</td>\n",
       "      <td>5.00</td>\n",
       "      <td>1.50</td>\n",
       "      <td>NaN</td>\n",
       "    </tr>\n",
       "    <tr>\n",
       "      <th>7</th>\n",
       "      <td>Software engineering</td>\n",
       "      <td>3.34</td>\n",
       "      <td>NaN</td>\n",
       "      <td>NaN</td>\n",
       "      <td>4.04</td>\n",
       "      <td>NaN</td>\n",
       "      <td>4.38</td>\n",
       "      <td>NaN</td>\n",
       "      <td>3.62</td>\n",
       "      <td>3.54</td>\n",
       "      <td>4.83</td>\n",
       "      <td>4.74</td>\n",
       "      <td>NaN</td>\n",
       "      <td>3.76</td>\n",
       "      <td>3.86</td>\n",
       "    </tr>\n",
       "    <tr>\n",
       "      <th>8</th>\n",
       "      <td>Systems programming</td>\n",
       "      <td>5.00</td>\n",
       "      <td>2.54</td>\n",
       "      <td>3.25</td>\n",
       "      <td>4.52</td>\n",
       "      <td>3.57</td>\n",
       "      <td>4.43</td>\n",
       "      <td>2.17</td>\n",
       "      <td>4.38</td>\n",
       "      <td>4.60</td>\n",
       "      <td>5.00</td>\n",
       "      <td>4.22</td>\n",
       "      <td>1.66</td>\n",
       "      <td>2.76</td>\n",
       "      <td>4.67</td>\n",
       "    </tr>\n",
       "  </tbody>\n",
       "</table>\n",
       "</div>"
      ],
      "text/plain": [
       "                          Book  Alan Perlis  Marvin Minsky  John McCarthy  \\\n",
       "0                   Algorithms          NaN           2.76           3.03   \n",
       "1      Artificial intelligence         1.46           5.00           5.00   \n",
       "2                  Computation          NaN           4.32           3.23   \n",
       "3                  Concurrency          NaN            NaN           3.61   \n",
       "4                    Databases         2.32            NaN            NaN   \n",
       "5               Formal methods          NaN            NaN           3.58   \n",
       "6  Programming language theory          NaN            NaN           4.72   \n",
       "7         Software engineering         3.34            NaN            NaN   \n",
       "8          Systems programming         5.00           2.54           3.25   \n",
       "\n",
       "   Edsger Dijkstra  Donald Knuth  John Backus  Robert Floyd  Tony Hoare  \\\n",
       "0             4.92          5.00          NaN          5.00        4.38   \n",
       "1              NaN           NaN          NaN           NaN         NaN   \n",
       "2              NaN          4.39          NaN          3.18         NaN   \n",
       "3             3.97           NaN          NaN          2.92        4.88   \n",
       "4              NaN           NaN         2.80           NaN         NaN   \n",
       "5             5.00           NaN         2.42          5.00        4.72   \n",
       "6             4.34          4.33         4.58          4.24        4.64   \n",
       "7             4.04           NaN         4.38           NaN        3.62   \n",
       "8             4.52          3.57         4.43          2.17        4.38   \n",
       "\n",
       "   Edgar Codd  Dennis Ritchie  Niklaus Wirth  Robin Milner  Leslie Lamport  \\\n",
       "0         NaN             NaN           3.95           NaN            4.63   \n",
       "1         NaN             NaN            NaN           NaN             NaN   \n",
       "2         NaN             NaN            NaN           NaN             NaN   \n",
       "3        4.28             NaN            NaN          4.62            5.00   \n",
       "4        5.00             NaN            NaN           NaN             NaN   \n",
       "5        1.53             NaN           3.83          3.94            4.93   \n",
       "6         NaN            3.45           4.23          5.00            1.50   \n",
       "7        3.54            4.83           4.74           NaN            3.76   \n",
       "8        4.60            5.00           4.22          1.66            2.76   \n",
       "\n",
       "   Michael Stonebraker  \n",
       "0                  NaN  \n",
       "1                  NaN  \n",
       "2                  NaN  \n",
       "3                 4.14  \n",
       "4                 5.00  \n",
       "5                  NaN  \n",
       "6                  NaN  \n",
       "7                 3.86  \n",
       "8                 4.67  "
      ]
     },
     "execution_count": 69,
     "metadata": {},
     "output_type": "execute_result"
    }
   ],
   "source": [
    "df"
   ]
  },
  {
   "cell_type": "code",
   "execution_count": 68,
   "metadata": {
    "ExecuteTime": {
     "end_time": "2019-07-30T05:48:13.694759Z",
     "start_time": "2019-07-30T05:48:13.219175Z"
    }
   },
   "outputs": [
    {
     "data": {
      "image/png": "[encoded data removed]",
      "text/plain": [
       "<Figure size 1080x1080 with 1 Axes>"
      ]
     },
     "metadata": {},
     "output_type": "display_data"
    }
   ],
   "source": [
    "# import seaborn as sns\n",
    "users = [user for user in df.columns if user!='Book']\n",
    "sns.set(style= 'whitegrid', rc = {'figure.figsize' : (15,15)}, )\n",
    "fig = sns.scatterplot(x = 'Book', y ='Alan Perlis', data = df)\n",
    "for user in users:\n",
    "    sns.scatterplot(x = 'Book', y = user, ax = fig, data = df, legend='full')\n",
    "    \n",
    "# fig = sns.scatterplot(x = 'Book', y =y, data = df)\n"
   ]
  },
  {
   "cell_type": "code",
   "execution_count": 62,
   "metadata": {
    "ExecuteTime": {
     "end_time": "2019-07-30T05:44:18.005626Z",
     "start_time": "2019-07-30T05:44:17.997726Z"
    }
   },
   "outputs": [
    {
     "data": {
      "text/plain": [
       "'Alan Perlis'"
      ]
     },
     "execution_count": 62,
     "metadata": {},
     "output_type": "execute_result"
    }
   ],
   "source": [
    "users[0]"
   ]
  },
  {
   "cell_type": "code",
   "execution_count": 91,
   "metadata": {
    "ExecuteTime": {
     "end_time": "2019-07-30T06:06:36.483060Z",
     "start_time": "2019-07-30T06:06:36.474871Z"
    }
   },
   "outputs": [
    {
     "data": {
      "text/plain": [
       "Index(['Algorithms', 'Artificial intelligence', 'Computation', 'Concurrency',\n",
       "       'Databases', 'Formal methods', 'Programming language theory',\n",
       "       'Software engineering', 'Systems programming'],\n",
       "      dtype='object', name='Book')"
      ]
     },
     "execution_count": 91,
     "metadata": {},
     "output_type": "execute_result"
    }
   ],
   "source": [
    "df.index"
   ]
  },
  {
   "cell_type": "code",
   "execution_count": 90,
   "metadata": {
    "ExecuteTime": {
     "end_time": "2019-07-30T06:06:31.417911Z",
     "start_time": "2019-07-30T06:06:31.379951Z"
    },
    "scrolled": false
   },
   "outputs": [
    {
     "data": {
      "text/html": [
       "<div>\n",
       "<style scoped>\n",
       "    .dataframe tbody tr th:only-of-type {\n",
       "        vertical-align: middle;\n",
       "    }\n",
       "\n",
       "    .dataframe tbody tr th {\n",
       "        vertical-align: top;\n",
       "    }\n",
       "\n",
       "    .dataframe thead th {\n",
       "        text-align: right;\n",
       "    }\n",
       "</style>\n",
       "<table border=\"1\" class=\"dataframe\">\n",
       "  <thead>\n",
       "    <tr style=\"text-align: right;\">\n",
       "      <th></th>\n",
       "      <th>Book</th>\n",
       "      <th>Alan Perlis</th>\n",
       "      <th>Marvin Minsky</th>\n",
       "      <th>John McCarthy</th>\n",
       "      <th>Edsger Dijkstra</th>\n",
       "      <th>Donald Knuth</th>\n",
       "      <th>John Backus</th>\n",
       "      <th>Robert Floyd</th>\n",
       "      <th>Tony Hoare</th>\n",
       "      <th>Edgar Codd</th>\n",
       "      <th>Dennis Ritchie</th>\n",
       "      <th>Niklaus Wirth</th>\n",
       "      <th>Robin Milner</th>\n",
       "      <th>Leslie Lamport</th>\n",
       "      <th>Michael Stonebraker</th>\n",
       "    </tr>\n",
       "    <tr>\n",
       "      <th>Book</th>\n",
       "      <th></th>\n",
       "      <th></th>\n",
       "      <th></th>\n",
       "      <th></th>\n",
       "      <th></th>\n",
       "      <th></th>\n",
       "      <th></th>\n",
       "      <th></th>\n",
       "      <th></th>\n",
       "      <th></th>\n",
       "      <th></th>\n",
       "      <th></th>\n",
       "      <th></th>\n",
       "      <th></th>\n",
       "      <th></th>\n",
       "    </tr>\n",
       "  </thead>\n",
       "  <tbody>\n",
       "    <tr>\n",
       "      <th>Algorithms</th>\n",
       "      <td>Algorithms</td>\n",
       "      <td>NaN</td>\n",
       "      <td>2.76</td>\n",
       "      <td>3.03</td>\n",
       "      <td>4.92</td>\n",
       "      <td>5.00</td>\n",
       "      <td>NaN</td>\n",
       "      <td>5.00</td>\n",
       "      <td>4.38</td>\n",
       "      <td>NaN</td>\n",
       "      <td>NaN</td>\n",
       "      <td>3.95</td>\n",
       "      <td>NaN</td>\n",
       "      <td>4.63</td>\n",
       "      <td>NaN</td>\n",
       "    </tr>\n",
       "    <tr>\n",
       "      <th>Artificial intelligence</th>\n",
       "      <td>Artificial intelligence</td>\n",
       "      <td>1.46</td>\n",
       "      <td>5.00</td>\n",
       "      <td>5.00</td>\n",
       "      <td>NaN</td>\n",
       "      <td>NaN</td>\n",
       "      <td>NaN</td>\n",
       "      <td>NaN</td>\n",
       "      <td>NaN</td>\n",
       "      <td>NaN</td>\n",
       "      <td>NaN</td>\n",
       "      <td>NaN</td>\n",
       "      <td>NaN</td>\n",
       "      <td>NaN</td>\n",
       "      <td>NaN</td>\n",
       "    </tr>\n",
       "    <tr>\n",
       "      <th>Computation</th>\n",
       "      <td>Computation</td>\n",
       "      <td>NaN</td>\n",
       "      <td>4.32</td>\n",
       "      <td>3.23</td>\n",
       "      <td>NaN</td>\n",
       "      <td>4.39</td>\n",
       "      <td>NaN</td>\n",
       "      <td>3.18</td>\n",
       "      <td>NaN</td>\n",
       "      <td>NaN</td>\n",
       "      <td>NaN</td>\n",
       "      <td>NaN</td>\n",
       "      <td>NaN</td>\n",
       "      <td>NaN</td>\n",
       "      <td>NaN</td>\n",
       "    </tr>\n",
       "    <tr>\n",
       "      <th>Concurrency</th>\n",
       "      <td>Concurrency</td>\n",
       "      <td>NaN</td>\n",
       "      <td>NaN</td>\n",
       "      <td>3.61</td>\n",
       "      <td>3.97</td>\n",
       "      <td>NaN</td>\n",
       "      <td>NaN</td>\n",
       "      <td>2.92</td>\n",
       "      <td>4.88</td>\n",
       "      <td>4.28</td>\n",
       "      <td>NaN</td>\n",
       "      <td>NaN</td>\n",
       "      <td>4.62</td>\n",
       "      <td>5.00</td>\n",
       "      <td>4.14</td>\n",
       "    </tr>\n",
       "    <tr>\n",
       "      <th>Databases</th>\n",
       "      <td>Databases</td>\n",
       "      <td>2.32</td>\n",
       "      <td>NaN</td>\n",
       "      <td>NaN</td>\n",
       "      <td>NaN</td>\n",
       "      <td>NaN</td>\n",
       "      <td>2.80</td>\n",
       "      <td>NaN</td>\n",
       "      <td>NaN</td>\n",
       "      <td>5.00</td>\n",
       "      <td>NaN</td>\n",
       "      <td>NaN</td>\n",
       "      <td>NaN</td>\n",
       "      <td>NaN</td>\n",
       "      <td>5.00</td>\n",
       "    </tr>\n",
       "    <tr>\n",
       "      <th>Formal methods</th>\n",
       "      <td>Formal methods</td>\n",
       "      <td>NaN</td>\n",
       "      <td>NaN</td>\n",
       "      <td>3.58</td>\n",
       "      <td>5.00</td>\n",
       "      <td>NaN</td>\n",
       "      <td>2.42</td>\n",
       "      <td>5.00</td>\n",
       "      <td>4.72</td>\n",
       "      <td>1.53</td>\n",
       "      <td>NaN</td>\n",
       "      <td>3.83</td>\n",
       "      <td>3.94</td>\n",
       "      <td>4.93</td>\n",
       "      <td>NaN</td>\n",
       "    </tr>\n",
       "    <tr>\n",
       "      <th>Programming language theory</th>\n",
       "      <td>Programming language theory</td>\n",
       "      <td>NaN</td>\n",
       "      <td>NaN</td>\n",
       "      <td>4.72</td>\n",
       "      <td>4.34</td>\n",
       "      <td>4.33</td>\n",
       "      <td>4.58</td>\n",
       "      <td>4.24</td>\n",
       "      <td>4.64</td>\n",
       "      <td>NaN</td>\n",
       "      <td>3.45</td>\n",
       "      <td>4.23</td>\n",
       "      <td>5.00</td>\n",
       "      <td>1.50</td>\n",
       "      <td>NaN</td>\n",
       "    </tr>\n",
       "    <tr>\n",
       "      <th>Software engineering</th>\n",
       "      <td>Software engineering</td>\n",
       "      <td>3.34</td>\n",
       "      <td>NaN</td>\n",
       "      <td>NaN</td>\n",
       "      <td>4.04</td>\n",
       "      <td>NaN</td>\n",
       "      <td>4.38</td>\n",
       "      <td>NaN</td>\n",
       "      <td>3.62</td>\n",
       "      <td>3.54</td>\n",
       "      <td>4.83</td>\n",
       "      <td>4.74</td>\n",
       "      <td>NaN</td>\n",
       "      <td>3.76</td>\n",
       "      <td>3.86</td>\n",
       "    </tr>\n",
       "    <tr>\n",
       "      <th>Systems programming</th>\n",
       "      <td>Systems programming</td>\n",
       "      <td>5.00</td>\n",
       "      <td>2.54</td>\n",
       "      <td>3.25</td>\n",
       "      <td>4.52</td>\n",
       "      <td>3.57</td>\n",
       "      <td>4.43</td>\n",
       "      <td>2.17</td>\n",
       "      <td>4.38</td>\n",
       "      <td>4.60</td>\n",
       "      <td>5.00</td>\n",
       "      <td>4.22</td>\n",
       "      <td>1.66</td>\n",
       "      <td>2.76</td>\n",
       "      <td>4.67</td>\n",
       "    </tr>\n",
       "  </tbody>\n",
       "</table>\n",
       "</div>"
      ],
      "text/plain": [
       "                                                    Book  Alan Perlis  \\\n",
       "Book                                                                    \n",
       "Algorithms                                    Algorithms          NaN   \n",
       "Artificial intelligence          Artificial intelligence         1.46   \n",
       "Computation                                  Computation          NaN   \n",
       "Concurrency                                  Concurrency          NaN   \n",
       "Databases                                      Databases         2.32   \n",
       "Formal methods                            Formal methods          NaN   \n",
       "Programming language theory  Programming language theory          NaN   \n",
       "Software engineering                Software engineering         3.34   \n",
       "Systems programming                  Systems programming         5.00   \n",
       "\n",
       "                             Marvin Minsky  John McCarthy  Edsger Dijkstra  \\\n",
       "Book                                                                         \n",
       "Algorithms                            2.76           3.03             4.92   \n",
       "Artificial intelligence               5.00           5.00              NaN   \n",
       "Computation                           4.32           3.23              NaN   \n",
       "Concurrency                            NaN           3.61             3.97   \n",
       "Databases                              NaN            NaN              NaN   \n",
       "Formal methods                         NaN           3.58             5.00   \n",
       "Programming language theory            NaN           4.72             4.34   \n",
       "Software engineering                   NaN            NaN             4.04   \n",
       "Systems programming                   2.54           3.25             4.52   \n",
       "\n",
       "                             Donald Knuth  John Backus  Robert Floyd  \\\n",
       "Book                                                                   \n",
       "Algorithms                           5.00          NaN          5.00   \n",
       "Artificial intelligence               NaN          NaN           NaN   \n",
       "Computation                          4.39          NaN          3.18   \n",
       "Concurrency                           NaN          NaN          2.92   \n",
       "Databases                             NaN         2.80           NaN   \n",
       "Formal methods                        NaN         2.42          5.00   \n",
       "Programming language theory          4.33         4.58          4.24   \n",
       "Software engineering                  NaN         4.38           NaN   \n",
       "Systems programming                  3.57         4.43          2.17   \n",
       "\n",
       "                             Tony Hoare  Edgar Codd  Dennis Ritchie  \\\n",
       "Book                                                                  \n",
       "Algorithms                         4.38         NaN             NaN   \n",
       "Artificial intelligence             NaN         NaN             NaN   \n",
       "Computation                         NaN         NaN             NaN   \n",
       "Concurrency                        4.88        4.28             NaN   \n",
       "Databases                           NaN        5.00             NaN   \n",
       "Formal methods                     4.72        1.53             NaN   \n",
       "Programming language theory        4.64         NaN            3.45   \n",
       "Software engineering               3.62        3.54            4.83   \n",
       "Systems programming                4.38        4.60            5.00   \n",
       "\n",
       "                             Niklaus Wirth  Robin Milner  Leslie Lamport  \\\n",
       "Book                                                                       \n",
       "Algorithms                            3.95           NaN            4.63   \n",
       "Artificial intelligence                NaN           NaN             NaN   \n",
       "Computation                            NaN           NaN             NaN   \n",
       "Concurrency                            NaN          4.62            5.00   \n",
       "Databases                              NaN           NaN             NaN   \n",
       "Formal methods                        3.83          3.94            4.93   \n",
       "Programming language theory           4.23          5.00            1.50   \n",
       "Software engineering                  4.74           NaN            3.76   \n",
       "Systems programming                   4.22          1.66            2.76   \n",
       "\n",
       "                             Michael Stonebraker  \n",
       "Book                                              \n",
       "Algorithms                                   NaN  \n",
       "Artificial intelligence                      NaN  \n",
       "Computation                                  NaN  \n",
       "Concurrency                                 4.14  \n",
       "Databases                                   5.00  \n",
       "Formal methods                               NaN  \n",
       "Programming language theory                  NaN  \n",
       "Software engineering                        3.86  \n",
       "Systems programming                         4.67  "
      ]
     },
     "execution_count": 90,
     "metadata": {},
     "output_type": "execute_result"
    }
   ],
   "source": [
    "df"
   ]
  },
  {
   "cell_type": "code",
   "execution_count": 99,
   "metadata": {
    "ExecuteTime": {
     "end_time": "2019-07-30T06:10:49.089997Z",
     "start_time": "2019-07-30T06:10:49.085395Z"
    }
   },
   "outputs": [],
   "source": [
    "x = df.loc[\"Systems programming\"]\n",
    "y = df.loc['Programming language theory']"
   ]
  },
  {
   "cell_type": "markdown",
   "metadata": {
    "heading_collapsed": true
   },
   "source": [
    "# Euclidean Distance Score"
   ]
  },
  {
   "cell_type": "markdown",
   "metadata": {
    "hidden": true
   },
   "source": [
    "Euclean Distance between two points is the length of the line segments connecting them. Our Euclidean space in this particular case is the positive portion of the plane where the axes are the ranked items and the points represent"
   ]
  },
  {
   "cell_type": "code",
   "execution_count": 113,
   "metadata": {
    "ExecuteTime": {
     "end_time": "2019-07-30T06:43:14.827796Z",
     "start_time": "2019-07-30T06:43:14.819143Z"
    },
    "hidden": true
   },
   "outputs": [],
   "source": [
    "def euclidean_similarity(person1, person2):\n",
    "    \n",
    "    common_ranked_items = [itm for itm in data[person1] \n",
    "                           if itm in data[person2]]\n",
    "#     print(common_ranked_items)\n",
    "    rankings_by_user = [(data[person1][itm], data[person2][itm])\n",
    "               for itm in common_ranked_items]\n",
    "#     print(rankings_by_user)\n",
    "    distance = [pow(rank[0] - rank[1], 2) for rank in rankings_by_user]\n",
    "#     print(distance)\n",
    "    \n",
    "    return 1 / (1+ sum(distance))"
   ]
  },
  {
   "cell_type": "code",
   "execution_count": 114,
   "metadata": {
    "ExecuteTime": {
     "end_time": "2019-07-30T06:43:16.908558Z",
     "start_time": "2019-07-30T06:43:16.899713Z"
    },
    "hidden": true
   },
   "outputs": [
    {
     "name": "stdout",
     "output_type": "stream",
     "text": [
      "['Programming language theory', 'Systems programming', 'Concurrency', 'Formal methods']\n",
      "[(5.0, 1.5), (1.66, 2.76), (4.62, 5.0), (3.94, 4.93)]\n",
      "[12.25, 1.2099999999999997, 0.14439999999999992, 0.9800999999999995]\n"
     ]
    },
    {
     "data": {
      "text/plain": [
       "0.06416631909910489"
      ]
     },
     "execution_count": 114,
     "metadata": {},
     "output_type": "execute_result"
    }
   ],
   "source": [
    "euclidean_similarity('Robin Milner', 'Leslie Lamport')"
   ]
  },
  {
   "cell_type": "markdown",
   "metadata": {
    "ExecuteTime": {
     "end_time": "2019-07-30T06:46:29.853854Z",
     "start_time": "2019-07-30T06:46:29.846354Z"
    },
    "hidden": true
   },
   "source": [
    "The major flaw of this algorithm, and in genral of Euclidean distance based comparisons, is that if the whole distribution of rankings from a person tends to be higher than those from other person<b>(a person is inclined to give higher scores tha the other)</b>, this metric would classify them as dissimilar without regard the correaltion between two people."
   ]
  },
  {
   "cell_type": "markdown",
   "metadata": {},
   "source": [
    "# Pearson correlation Coefficient"
   ]
  },
  {
   "cell_type": "markdown",
   "metadata": {},
   "source": [
    "The Pearson correaltion coefficient is <b>a measure of the linear dependence of coorealtion between two variables X and Y.</b> <br>\n",
    "The PCC is better understood in this case as <b><font color = 'red'>a measure of the slope of two datasets related by a single line</font></b>. By using this method we are eliminating the weight of harshness while meausuring the relation between two people.<br><br>\n",
    "The PCC algorithm, requires two datasets as inputs, those datsets don't come from how people ranked the items, but they come from the common ranked items between two people. PCC helps us to find the similarity of a pair of users. "
   ]
  },
  {
   "cell_type": "code",
   "execution_count": 117,
   "metadata": {
    "ExecuteTime": {
     "end_time": "2019-07-30T07:21:21.175339Z",
     "start_time": "2019-07-30T07:21:21.164755Z"
    }
   },
   "outputs": [],
   "source": [
    "import math\n",
    "def pearson_similarity(person1, person2):\n",
    "    \n",
    "    common_ranked_items = [itm for itm in data[person1]\n",
    "                            if itm in data[person2]]\n",
    "    n = len(common_ranked_items)\n",
    "    s1 = sum([data[person1][item] for item in common_ranked_items])\n",
    "    s2 = sum([data[person2][item] for item in common_ranked_items])\n",
    "    \n",
    "    ss1 = sum([pow(data[person1][item], 2) for item in common_ranked_items])\n",
    "    ss2 = sum([pow(data[person2][item], 2) for item in common_ranked_items])\n",
    "    ps = sum([data[person1][item] * data[person2][item] for item in common_ranked_items])\n",
    "    numerator = n * ps - (s1 * s2)\n",
    "    denominator = math.sqrt((n * ss1 - math.pow(s1, 2)) * (n * ss2 - math.pow(s2, 2)))\n",
    "    \n",
    "    return (numerator/denominator) if denominator!=0 else 0"
   ]
  },
  {
   "cell_type": "code",
   "execution_count": 118,
   "metadata": {
    "ExecuteTime": {
     "end_time": "2019-07-30T07:21:45.332375Z",
     "start_time": "2019-07-30T07:21:45.324715Z"
    },
    "scrolled": true
   },
   "outputs": [
    {
     "data": {
      "text/plain": [
       "0.07959368299554316"
      ]
     },
     "execution_count": 118,
     "metadata": {},
     "output_type": "execute_result"
    }
   ],
   "source": [
    "pearson_similarity('Robin Milner', 'Leslie Lamport')"
   ]
  },
  {
   "cell_type": "markdown",
   "metadata": {},
   "source": [
    "# Recommender Function"
   ]
  },
  {
   "cell_type": "code",
   "execution_count": 169,
   "metadata": {
    "ExecuteTime": {
     "end_time": "2019-07-30T10:50:00.594458Z",
     "start_time": "2019-07-30T10:50:00.583044Z"
    }
   },
   "outputs": [],
   "source": [
    "def recommend(person, bound, similarity = pearson_similarity):\n",
    "    scores = [(similarity(person, other), other)\n",
    "              for other in data if other!=person]\n",
    "    scores.sort()\n",
    "    scores.reverse()\n",
    "    scores = scores[0 : bound]\n",
    "    \n",
    "    recomms = {}\n",
    "    \n",
    "    for sim, other in scores:\n",
    "        ranked = data[other]\n",
    "        for itm in ranked:\n",
    "            if itm not in data[person]:\n",
    "                weight = sim * ranked[itm]\n",
    "                \n",
    "            if itm in recomms:\n",
    "                s, weights = recomms[itm]\n",
    "                recomms[itm] = (s + sim, weights + [weight])\n",
    "            else:\n",
    "                recomms[itm] = (sim, [weight])\n",
    "                \n",
    "    for r in recomms:\n",
    "        sim, item = recomms[r]\n",
    "        recomms[r] = sum(item) / sim\n",
    "        \n",
    "    return recomms"
   ]
  },
  {
   "cell_type": "code",
   "execution_count": 170,
   "metadata": {
    "ExecuteTime": {
     "end_time": "2019-07-30T10:50:01.213567Z",
     "start_time": "2019-07-30T10:50:01.204635Z"
    },
    "scrolled": false
   },
   "outputs": [
    {
     "data": {
      "text/plain": [
       "{'Programming language theory': 4.490000000000001,\n",
       " 'Systems programming': 4.490000000000001,\n",
       " 'Software engineering': 4.490000000000001,\n",
       " 'Concurrency': 4.425000000000007,\n",
       " 'Formal methods': 4.859999999999998,\n",
       " 'Algorithms': 4.649999999999996}"
      ]
     },
     "execution_count": 170,
     "metadata": {},
     "output_type": "execute_result"
    }
   ],
   "source": [
    "recommend(\"Alan Perlis\", 2)"
   ]
  },
  {
   "cell_type": "code",
   "execution_count": null,
   "metadata": {},
   "outputs": [],
   "source": []
  }
 ],
 "metadata": {
  "kernelspec": {
   "display_name": "Python 3",
   "language": "python",
   "name": "python3"
  },
  "language_info": {
   "codemirror_mode": {
    "name": "ipython",
    "version": 3
   },
   "file_extension": ".py",
   "mimetype": "text/x-python",
   "name": "python",
   "nbconvert_exporter": "python",
   "pygments_lexer": "ipython3",
   "version": "3.7.3"
  },
  "toc": {
   "base_numbering": 1,
   "nav_menu": {},
   "number_sections": true,
   "sideBar": true,
   "skip_h1_title": false,
   "title_cell": "Table of Contents",
   "title_sidebar": "Contents",
   "toc_cell": false,
   "toc_position": {},
   "toc_section_display": true,
   "toc_window_display": false
  },
  "varInspector": {
   "cols": {
    "lenName": 16,
    "lenType": 16,
    "lenVar": 40
   },
   "kernels_config": {
    "python": {
     "delete_cmd_postfix": "",
     "delete_cmd_prefix": "del ",
     "library": "var_list.py",
     "varRefreshCmd": "print(var_dic_list())"
    },
    "r": {
     "delete_cmd_postfix": ") ",
     "delete_cmd_prefix": "rm(",
     "library": "var_list.r",
     "varRefreshCmd": "cat(var_dic_list()) "
    }
   },
   "types_to_exclude": [
    "module",
    "function",
    "builtin_function_or_method",
    "instance",
    "_Feature"
   ],
   "window_display": false
  }
 },
 "nbformat": 4,
 "nbformat_minor": 2
}
